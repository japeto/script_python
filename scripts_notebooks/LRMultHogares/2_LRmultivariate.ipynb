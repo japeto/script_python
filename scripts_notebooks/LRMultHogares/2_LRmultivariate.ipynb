{
 "cells": [
  {
   "cell_type": "code",
   "execution_count": 7,
   "metadata": {},
   "outputs": [],
   "source": [
    "import pandas as pd\n",
    "import numpy as np\n",
    "import matplotlib.pyplot as plt\n",
    "from sklearn import linear_model"
   ]
  },
  {
   "cell_type": "code",
   "execution_count": 16,
   "metadata": {},
   "outputs": [
    {
     "data": {
      "text/html": [
       "<div>\n",
       "<style scoped>\n",
       "    .dataframe tbody tr th:only-of-type {\n",
       "        vertical-align: middle;\n",
       "    }\n",
       "\n",
       "    .dataframe tbody tr th {\n",
       "        vertical-align: top;\n",
       "    }\n",
       "\n",
       "    .dataframe thead th {\n",
       "        text-align: right;\n",
       "    }\n",
       "</style>\n",
       "<table border=\"1\" class=\"dataframe\">\n",
       "  <thead>\n",
       "    <tr style=\"text-align: right;\">\n",
       "      <th></th>\n",
       "      <th>area</th>\n",
       "      <th>habitaciones</th>\n",
       "      <th>edad</th>\n",
       "      <th>precio</th>\n",
       "      <th>zona</th>\n",
       "      <th>ubicacion</th>\n",
       "    </tr>\n",
       "  </thead>\n",
       "  <tbody>\n",
       "    <tr>\n",
       "      <th>0</th>\n",
       "      <td>59.21</td>\n",
       "      <td>3.0</td>\n",
       "      <td>3</td>\n",
       "      <td>125229150</td>\n",
       "      <td>Norte</td>\n",
       "      <td>(Ciudad guabinas)</td>\n",
       "    </tr>\n",
       "    <tr>\n",
       "      <th>1</th>\n",
       "      <td>86.69</td>\n",
       "      <td>4.0</td>\n",
       "      <td>2</td>\n",
       "      <td>367881000</td>\n",
       "      <td>Oeste</td>\n",
       "      <td>(S. Fernando)</td>\n",
       "    </tr>\n",
       "    <tr>\n",
       "      <th>2</th>\n",
       "      <td>95.54</td>\n",
       "      <td>NaN</td>\n",
       "      <td>4</td>\n",
       "      <td>511530000</td>\n",
       "      <td>Norte</td>\n",
       "      <td>(La Flora)</td>\n",
       "    </tr>\n",
       "    <tr>\n",
       "      <th>3</th>\n",
       "      <td>37.91</td>\n",
       "      <td>4.0</td>\n",
       "      <td>3</td>\n",
       "      <td>137079000</td>\n",
       "      <td>Norte</td>\n",
       "      <td>(La Flora)</td>\n",
       "    </tr>\n",
       "    <tr>\n",
       "      <th>4</th>\n",
       "      <td>65.72</td>\n",
       "      <td>NaN</td>\n",
       "      <td>2</td>\n",
       "      <td>220660000</td>\n",
       "      <td>Sur 1</td>\n",
       "      <td>(Buenos Aires)</td>\n",
       "    </tr>\n",
       "    <tr>\n",
       "      <th>5</th>\n",
       "      <td>60.05</td>\n",
       "      <td>4.0</td>\n",
       "      <td>8</td>\n",
       "      <td>146469000</td>\n",
       "      <td>Sur 2</td>\n",
       "      <td>(Valle del Lili)</td>\n",
       "    </tr>\n",
       "    <tr>\n",
       "      <th>6</th>\n",
       "      <td>75.00</td>\n",
       "      <td>3.0</td>\n",
       "      <td>1</td>\n",
       "      <td>326792507</td>\n",
       "      <td>Sur 1</td>\n",
       "      <td>(Guadalupe)</td>\n",
       "    </tr>\n",
       "    <tr>\n",
       "      <th>7</th>\n",
       "      <td>55.30</td>\n",
       "      <td>5.0</td>\n",
       "      <td>8</td>\n",
       "      <td>401000000</td>\n",
       "      <td>Oeste</td>\n",
       "      <td>(Arboleda)</td>\n",
       "    </tr>\n",
       "    <tr>\n",
       "      <th>8</th>\n",
       "      <td>92.34</td>\n",
       "      <td>3.0</td>\n",
       "      <td>4</td>\n",
       "      <td>609300590</td>\n",
       "      <td>Oeste</td>\n",
       "      <td>(Mameyal)</td>\n",
       "    </tr>\n",
       "    <tr>\n",
       "      <th>9</th>\n",
       "      <td>59.14</td>\n",
       "      <td>3.0</td>\n",
       "      <td>1</td>\n",
       "      <td>139500000</td>\n",
       "      <td>Sur 2</td>\n",
       "      <td>(Bosque del valle)</td>\n",
       "    </tr>\n",
       "    <tr>\n",
       "      <th>10</th>\n",
       "      <td>77.79</td>\n",
       "      <td>3.0</td>\n",
       "      <td>2</td>\n",
       "      <td>143798000</td>\n",
       "      <td>Sur 2</td>\n",
       "      <td>(Ciudad Pacifica)</td>\n",
       "    </tr>\n",
       "    <tr>\n",
       "      <th>11</th>\n",
       "      <td>95.10</td>\n",
       "      <td>5.0</td>\n",
       "      <td>1</td>\n",
       "      <td>451398670</td>\n",
       "      <td>Sur 1</td>\n",
       "      <td>(S. Anita)</td>\n",
       "    </tr>\n",
       "  </tbody>\n",
       "</table>\n",
       "</div>"
      ],
      "text/plain": [
       "     area  habitaciones  edad     precio   zona           ubicacion\n",
       "0   59.21           3.0     3  125229150  Norte   (Ciudad guabinas)\n",
       "1   86.69           4.0     2  367881000  Oeste       (S. Fernando)\n",
       "2   95.54           NaN     4  511530000  Norte          (La Flora)\n",
       "3   37.91           4.0     3  137079000  Norte          (La Flora)\n",
       "4   65.72           NaN     2  220660000  Sur 1      (Buenos Aires)\n",
       "5   60.05           4.0     8  146469000  Sur 2    (Valle del Lili)\n",
       "6   75.00           3.0     1  326792507  Sur 1         (Guadalupe)\n",
       "7   55.30           5.0     8  401000000  Oeste          (Arboleda)\n",
       "8   92.34           3.0     4  609300590  Oeste           (Mameyal)\n",
       "9   59.14           3.0     1  139500000  Sur 2  (Bosque del valle)\n",
       "10  77.79           3.0     2  143798000  Sur 2   (Ciudad Pacifica)\n",
       "11  95.10           5.0     1  451398670  Sur 1          (S. Anita)"
      ]
     },
     "execution_count": 16,
     "metadata": {},
     "output_type": "execute_result"
    }
   ],
   "source": [
    "df = pd.read_csv('2_homeprices.csv')\n",
    "df"
   ]
  },
  {
   "cell_type": "markdown",
   "metadata": {},
   "source": [
    "**Pre-Calculation (find missing data):**"
   ]
  },
  {
   "cell_type": "code",
   "execution_count": 17,
   "metadata": {
    "scrolled": true
   },
   "outputs": [
    {
     "data": {
      "text/plain": [
       "3.5"
      ]
     },
     "execution_count": 17,
     "metadata": {},
     "output_type": "execute_result"
    }
   ],
   "source": [
    "m = df.habitaciones.median()\n",
    "m"
   ]
  },
  {
   "cell_type": "code",
   "execution_count": 18,
   "metadata": {},
   "outputs": [
    {
     "data": {
      "text/html": [
       "<div>\n",
       "<style scoped>\n",
       "    .dataframe tbody tr th:only-of-type {\n",
       "        vertical-align: middle;\n",
       "    }\n",
       "\n",
       "    .dataframe tbody tr th {\n",
       "        vertical-align: top;\n",
       "    }\n",
       "\n",
       "    .dataframe thead th {\n",
       "        text-align: right;\n",
       "    }\n",
       "</style>\n",
       "<table border=\"1\" class=\"dataframe\">\n",
       "  <thead>\n",
       "    <tr style=\"text-align: right;\">\n",
       "      <th></th>\n",
       "      <th>area</th>\n",
       "      <th>habitaciones</th>\n",
       "      <th>edad</th>\n",
       "      <th>precio</th>\n",
       "    </tr>\n",
       "  </thead>\n",
       "  <tbody>\n",
       "    <tr>\n",
       "      <th>0</th>\n",
       "      <td>59.21</td>\n",
       "      <td>3.0</td>\n",
       "      <td>3</td>\n",
       "      <td>125229150</td>\n",
       "    </tr>\n",
       "    <tr>\n",
       "      <th>1</th>\n",
       "      <td>86.69</td>\n",
       "      <td>4.0</td>\n",
       "      <td>2</td>\n",
       "      <td>367881000</td>\n",
       "    </tr>\n",
       "    <tr>\n",
       "      <th>2</th>\n",
       "      <td>95.54</td>\n",
       "      <td>3.5</td>\n",
       "      <td>4</td>\n",
       "      <td>511530000</td>\n",
       "    </tr>\n",
       "    <tr>\n",
       "      <th>3</th>\n",
       "      <td>37.91</td>\n",
       "      <td>4.0</td>\n",
       "      <td>3</td>\n",
       "      <td>137079000</td>\n",
       "    </tr>\n",
       "    <tr>\n",
       "      <th>4</th>\n",
       "      <td>65.72</td>\n",
       "      <td>3.5</td>\n",
       "      <td>2</td>\n",
       "      <td>220660000</td>\n",
       "    </tr>\n",
       "    <tr>\n",
       "      <th>5</th>\n",
       "      <td>60.05</td>\n",
       "      <td>4.0</td>\n",
       "      <td>8</td>\n",
       "      <td>146469000</td>\n",
       "    </tr>\n",
       "    <tr>\n",
       "      <th>6</th>\n",
       "      <td>75.00</td>\n",
       "      <td>3.0</td>\n",
       "      <td>1</td>\n",
       "      <td>326792507</td>\n",
       "    </tr>\n",
       "    <tr>\n",
       "      <th>7</th>\n",
       "      <td>55.30</td>\n",
       "      <td>5.0</td>\n",
       "      <td>8</td>\n",
       "      <td>401000000</td>\n",
       "    </tr>\n",
       "    <tr>\n",
       "      <th>8</th>\n",
       "      <td>92.34</td>\n",
       "      <td>3.0</td>\n",
       "      <td>4</td>\n",
       "      <td>609300590</td>\n",
       "    </tr>\n",
       "    <tr>\n",
       "      <th>9</th>\n",
       "      <td>59.14</td>\n",
       "      <td>3.0</td>\n",
       "      <td>1</td>\n",
       "      <td>139500000</td>\n",
       "    </tr>\n",
       "    <tr>\n",
       "      <th>10</th>\n",
       "      <td>77.79</td>\n",
       "      <td>3.0</td>\n",
       "      <td>2</td>\n",
       "      <td>143798000</td>\n",
       "    </tr>\n",
       "    <tr>\n",
       "      <th>11</th>\n",
       "      <td>95.10</td>\n",
       "      <td>5.0</td>\n",
       "      <td>1</td>\n",
       "      <td>451398670</td>\n",
       "    </tr>\n",
       "  </tbody>\n",
       "</table>\n",
       "</div>"
      ],
      "text/plain": [
       "     area  habitaciones  edad     precio\n",
       "0   59.21           3.0     3  125229150\n",
       "1   86.69           4.0     2  367881000\n",
       "2   95.54           3.5     4  511530000\n",
       "3   37.91           4.0     3  137079000\n",
       "4   65.72           3.5     2  220660000\n",
       "5   60.05           4.0     8  146469000\n",
       "6   75.00           3.0     1  326792507\n",
       "7   55.30           5.0     8  401000000\n",
       "8   92.34           3.0     4  609300590\n",
       "9   59.14           3.0     1  139500000\n",
       "10  77.79           3.0     2  143798000\n",
       "11  95.10           5.0     1  451398670"
      ]
     },
     "execution_count": 18,
     "metadata": {},
     "output_type": "execute_result"
    }
   ],
   "source": [
    "df.habitaciones = df.habitaciones.fillna(m)\n",
    "df=df.drop([\"zona\"], axis=\"columns\")\n",
    "df=df.drop([\"ubicacion\",], axis=\"columns\")\n",
    "df"
   ]
  },
  {
   "cell_type": "markdown",
   "metadata": {},
   "source": [
    "**Calculation**"
   ]
  },
  {
   "cell_type": "code",
   "execution_count": 19,
   "metadata": {},
   "outputs": [],
   "source": [
    "x = df.drop('precio', axis='columns')\n"
   ]
  },
  {
   "cell_type": "code",
   "execution_count": 20,
   "metadata": {},
   "outputs": [
    {
     "data": {
      "text/plain": [
       "LinearRegression(copy_X=True, fit_intercept=True, n_jobs=None,\n",
       "         normalize=False)"
      ]
     },
     "execution_count": 20,
     "metadata": {},
     "output_type": "execute_result"
    }
   ],
   "source": [
    "model = linear_model.LinearRegression()\n",
    "model.fit(x, df.precio)"
   ]
  },
  {
   "cell_type": "code",
   "execution_count": 21,
   "metadata": {},
   "outputs": [
    {
     "data": {
      "text/plain": [
       "array([ 7565192.32742209, 41212451.56653597, 16862459.84526137])"
      ]
     },
     "execution_count": 21,
     "metadata": {},
     "output_type": "execute_result"
    }
   ],
   "source": [
    "model.coef_"
   ]
  },
  {
   "cell_type": "code",
   "execution_count": 22,
   "metadata": {},
   "outputs": [
    {
     "data": {
      "text/plain": [
       "-449568549.75725156"
      ]
     },
     "execution_count": 22,
     "metadata": {},
     "output_type": "execute_result"
    }
   ],
   "source": [
    "model.intercept_"
   ]
  },
  {
   "cell_type": "code",
   "execution_count": 23,
   "metadata": {},
   "outputs": [
    {
     "data": {
      "text/plain": [
       "array([3.49384065e+07, 1.47112362e+08])"
      ]
     },
     "execution_count": 23,
     "metadata": {},
     "output_type": "execute_result"
    }
   ],
   "source": [
    "model.predict([[50.92, 2, 1], [60.3,3,1] ])"
   ]
  },
  {
   "cell_type": "code",
   "execution_count": 24,
   "metadata": {},
   "outputs": [
    {
     "data": {
      "text/plain": [
       "34938406.53341478"
      ]
     },
     "execution_count": 24,
     "metadata": {},
     "output_type": "execute_result"
    }
   ],
   "source": [
    "m = model.coef_\n",
    "c = model.intercept_\n",
    "x1 = 50.92\n",
    "x2 = 2\n",
    "x3 = 1\n",
    "y = m[0]*x1 + m[1]*x2 + m[2]*x3 + c\n",
    "y"
   ]
  },
  {
   "cell_type": "code",
   "execution_count": null,
   "metadata": {},
   "outputs": [],
   "source": []
  }
 ],
 "metadata": {
  "kernelspec": {
   "display_name": "Python 3",
   "language": "python",
   "name": "python3"
  },
  "language_info": {
   "codemirror_mode": {
    "name": "ipython",
    "version": 3
   },
   "file_extension": ".py",
   "mimetype": "text/x-python",
   "name": "python",
   "nbconvert_exporter": "python",
   "pygments_lexer": "ipython3",
   "version": "3.7.3"
  }
 },
 "nbformat": 4,
 "nbformat_minor": 2
}
